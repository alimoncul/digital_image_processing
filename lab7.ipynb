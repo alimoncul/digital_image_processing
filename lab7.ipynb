{
 "cells": [
  {
   "cell_type": "code",
   "execution_count": 3,
   "metadata": {},
   "outputs": [
    {
     "name": "stdout",
     "output_type": "stream",
     "text": [
      "Benzerliği en yüksek karakter:  429  Oranı:  54.72\n"
     ]
    },
    {
     "data": {
      "image/png": "[encoded data removed]",
      "text/plain": [
       "<Figure size 432x288 with 1 Axes>"
      ]
     },
     "metadata": {
      "needs_background": "light"
     },
     "output_type": "display_data"
    },
    {
     "data": {
      "image/png": "[encoded data removed]",
      "text/plain": [
       "<Figure size 432x288 with 1 Axes>"
      ]
     },
     "metadata": {
      "needs_background": "light"
     },
     "output_type": "display_data"
    }
   ],
   "source": [
    "import matplotlib.pyplot as plt\n",
    "import matplotlib.image as mpimg\n",
    "import numpy as np\n",
    "import math\n",
    "\n",
    "#A) 28x28 boyutlarında içeriği 0 ve 1 olan bir matris üretiniz.\n",
    "#B) A'da üretilen matriste 1'leri içeren MBR dikdörtgeni üreten fonksiyonu yazınız.\n",
    "#C) Kendisine aktarılan 2 vektörün benzerliğini döndüren fonksiyonu yazınız.\n",
    "#D) A'da yazılan fonksiyonu kullanarak 100 farklı matris elde edip, \n",
    "#1. üretilen ile diğerlerini karşılaştırıp, yakınlığını ve benzerliğini listeleyiniz.\n",
    "\n",
    "def randomMatrisGenerator(): #28x28 random array oluşturan fonksiyon\n",
    "    return np.random.randint(0,2,(28,28))\n",
    "\n",
    "def findMBR(array): #Verilen array'e göre min,max, X ve Y'yi bulan fonksiyon\n",
    "    MBR ={\"minX\": 28,\"maxX\": 0,\"minY\": 28,\"maxY\": 0}\n",
    "    satirsayisi,sutunsayisi=0,0\n",
    "    for satir in array:\n",
    "        for eleman in satir:\n",
    "            if(eleman==1 and MBR[\"minX\"]>sutunsayisi+1):\n",
    "                MBR[\"minX\"]=sutunsayisi+1\n",
    "            if(eleman==1 and MBR[\"maxX\"]<sutunsayisi+1):\n",
    "                MBR[\"maxX\"]=sutunsayisi+1\n",
    "            if(eleman==1 and MBR[\"minY\"]>satirsayisi+1):\n",
    "                MBR[\"minY\"]=satirsayisi+1\n",
    "            if(eleman==1 and MBR[\"maxY\"]<satirsayisi+1):\n",
    "                MBR[\"maxY\"]=satirsayisi+1\n",
    "            sutunsayisi=sutunsayisi+1\n",
    "        satirsayisi=satirsayisi+1\n",
    "        sutunsayisi=0\n",
    "    return MBR  \n",
    "\n",
    "def get_similarity(character_a,character_b):\n",
    "    m=character_a.shape[0]\n",
    "    n=character_a.shape[1]\n",
    "    my_similarity=0\n",
    "    for i in range(m):\n",
    "        for j in range(n):\n",
    "            if(character_a[i,j]==character_b[i,j]):\n",
    "                my_similarity=my_similarity+1\n",
    "    return my_similarity\n",
    "\n",
    "for i in range(100):\n",
    "    if(i==0):\n",
    "        anaCharacter = randomMatrisGenerator()\n",
    "        enBenzer = 0\n",
    "    digerCharacter = randomMatrisGenerator()\n",
    "    benzerlik = get_similarity(anaCharacter,digerCharacter)\n",
    "\n",
    "    if(benzerlik>enBenzer):\n",
    "        enBenzer = benzerlik\n",
    "        enBenzerCharacter = digerCharacter\n",
    "        \n",
    "print(\"Benzerliği en yüksek karakter: \", enBenzer, \" Oranı: \",round(enBenzer/784.0*100,2))\n",
    "plt.imshow(anaCharacter,cmap='gray')\n",
    "plt.show()\n",
    "plt.imshow(enBenzerCharacter,cmap='gray')\n",
    "plt.show()\n",
    "\n",
    "\n",
    "\n"
   ]
  },
  {
   "cell_type": "code",
   "execution_count": null,
   "metadata": {},
   "outputs": [],
   "source": []
  }
 ],
 "metadata": {
  "kernelspec": {
   "display_name": "Python 3",
   "language": "python",
   "name": "python3"
  },
  "language_info": {
   "codemirror_mode": {
    "name": "ipython",
    "version": 3
   },
   "file_extension": ".py",
   "mimetype": "text/x-python",
   "name": "python",
   "nbconvert_exporter": "python",
   "pygments_lexer": "ipython3",
   "version": "3.6.5"
  }
 },
 "nbformat": 4,
 "nbformat_minor": 2
}
